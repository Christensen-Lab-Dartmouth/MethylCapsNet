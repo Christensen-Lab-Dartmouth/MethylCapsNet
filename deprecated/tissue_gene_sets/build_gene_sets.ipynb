{
 "cells": [
  {
   "cell_type": "code",
   "execution_count": 60,
   "metadata": {},
   "outputs": [],
   "source": [
    "import pickle "
   ]
  },
  {
   "cell_type": "code",
   "execution_count": 61,
   "metadata": {},
   "outputs": [],
   "source": [
    "gene2cpg=pickle.load(open('gene2cpg.p','rb'))"
   ]
  },
  {
   "cell_type": "code",
   "execution_count": 105,
   "metadata": {},
   "outputs": [],
   "source": [
    "import glob\n",
    "from collections import defaultdict\n",
    "gsea={'.'.join(f.split('.')[:2]).replace('.all','').upper():f for f in glob.glob('*6.0*symbols.gmt')}\n",
    "gsea2=defaultdict(lambda : defaultdict(list))\n",
    "for k in gsea:\n",
    "    with open(gsea[k]) as f:\n",
    "        for line in f.read().splitlines():\n",
    "            l=line.split()\n",
    "            gsea2[k][l[0]]=l[2:]\n",
    "        #gsea[k]=pd.read_csv(gsea[k],index_col=0,header=Noine,sep='\\t')\n",
    "    gsea2[k]=dict(gsea2[k])\n",
    "        \n",
    "gsea2=dict(gsea2)"
   ]
  },
  {
   "cell_type": "code",
   "execution_count": 106,
   "metadata": {},
   "outputs": [],
   "source": [
    "#gsea2"
   ]
  },
  {
   "cell_type": "code",
   "execution_count": 107,
   "metadata": {},
   "outputs": [],
   "source": [
    "#gsea2\n",
    "pickle.dump(gsea2,open('gsea_collections.symbols.p','wb'))"
   ]
  },
  {
   "cell_type": "code",
   "execution_count": 108,
   "metadata": {},
   "outputs": [],
   "source": [
    "gsea=pickle.load(open('gsea_collections.symbols.p','rb'))"
   ]
  },
  {
   "cell_type": "code",
   "execution_count": 109,
   "metadata": {},
   "outputs": [
    {
     "data": {
      "text/plain": [
       "dict_keys(['C5.BP', 'C6', 'C1', 'H', 'C3.MIR', 'C2.CGP', 'C4.CM', 'C5.CC', 'C3.TFT', 'C5.MF', 'C7', 'C2.CP', 'C4.CGN'])"
      ]
     },
     "execution_count": 109,
     "metadata": {},
     "output_type": "execute_result"
    }
   ],
   "source": [
    "gsea.keys()"
   ]
  },
  {
   "cell_type": "code",
   "execution_count": 110,
   "metadata": {},
   "outputs": [],
   "source": [
    "#gsea['C2']['KEGG_GLYCOLYSIS_GLUCONEOGENESIS']"
   ]
  },
  {
   "cell_type": "code",
   "execution_count": 111,
   "metadata": {},
   "outputs": [],
   "source": [
    "import pandas as pd, numpy as np\n",
    "from functools import reduce\n"
   ]
  },
  {
   "cell_type": "code",
   "execution_count": 112,
   "metadata": {},
   "outputs": [
    {
     "data": {
      "text/plain": [
       "\"adipose tissue','adrenal gland','appendix','bone marrow','breast','cerebral cortex','cervix, uterine','colon','duodenum','endometrium','epididymis','esophagus','fallopian tube','gallbladder','heart muscle','kidney','liver','lung','lymph node','ovary','pancreas','parathyroid gland','placenta','prostate','rectum','salivary gland','seminal vesicle','skeletal muscle','skin','small intestine','smooth muscle','spleen','stomach','testis','thyroid gland','tonsil','urinary bladder\""
      ]
     },
     "execution_count": 112,
     "metadata": {},
     "output_type": "execute_result"
    }
   ],
   "source": [
    "\"','\".join(df.columns.tolist())"
   ]
  },
  {
   "cell_type": "code",
   "execution_count": 113,
   "metadata": {},
   "outputs": [
    {
     "data": {
      "text/plain": [
       "901"
      ]
     },
     "execution_count": 113,
     "metadata": {},
     "output_type": "execute_result"
    }
   ],
   "source": [
    "len(gsea['C5.MF'])"
   ]
  },
  {
   "cell_type": "code",
   "execution_count": 114,
   "metadata": {},
   "outputs": [],
   "source": [
    "#!pip install fuzzywuzzy[speedup]"
   ]
  },
  {
   "cell_type": "code",
   "execution_count": 115,
   "metadata": {},
   "outputs": [],
   "source": [
    "import fuzzywuzzy\n",
    "from fuzzywuzzy import process\n",
    "import dask\n",
    "def build_match_dict(l1,l2,min_id=90):\n",
    "    d1={}\n",
    "    d2={}\n",
    "    l2_lower=[l.lower() for l in l2]\n",
    "    if len(l1) and len(l2):\n",
    "        for l in l1:\n",
    "            ll=l.lower()\n",
    "            d1[l]=dask.delayed(process.extractOne)(ll, l2_lower)\n",
    "    d1=dask.compute(d1,scheduler='processes')[0]\n",
    "    d2={k:l2[l2_lower.index(v[0])] for k,v in d1.items() if v[1]>min_id}\n",
    "    #             if gotten[1]>min_id:\n",
    "    #                 d[l]=l2[l2_lower.index(gotten[0])]\n",
    "            \n",
    "    return d2"
   ]
  },
  {
   "cell_type": "code",
   "execution_count": 118,
   "metadata": {},
   "outputs": [
    {
     "name": "stdout",
     "output_type": "stream",
     "text": [
      "{'GO_DIACYLGLYCEROL_METABOLIC_PROCESS': 'GO_ACYLGLYCEROL_CATABOLIC_PROCESS'}\n",
      "{}\n",
      "{}\n",
      "{}\n",
      "{}\n",
      "{}\n",
      "{}\n",
      "{}\n",
      "{}\n",
      "{}\n",
      "{}\n",
      "{}\n",
      "{}\n"
     ]
    }
   ],
   "source": [
    "for collection in gsea:\n",
    "    gene_sets=pd.read_csv('SetTestWeights_{}_RNA.and.protein.txt'.format(collection),sep='\\t',index_col=0)['adipose tissue'].sort_values(ascending=False).iloc[:25].index.tolist() # \n",
    "    #print(gene_sets)\n",
    "#     c=0\n",
    "    \n",
    "#     l1=np.setdiff1d(list(gsea[collection].keys()),gene_sets)\n",
    "#     l2=np.setdiff1d(gene_sets,list(gsea[collection].keys()))\n",
    "#     print(build_match_dict(l1,l2))\n",
    "#     for gene_set in gene_sets:\n",
    "#         try:\n",
    "#             gsea2[collection][gene_set]\n",
    "#         except:\n",
    "#             print(collection,gene_set)\n",
    "#             c+=1\n",
    "#         #print(gsea2[gsea_db][gene_set])\n",
    "#     print(c)"
   ]
  },
  {
   "cell_type": "code",
   "execution_count": 156,
   "metadata": {},
   "outputs": [],
   "source": [
    "#gene_sets\n",
    "collection='C5.MF'\n",
    "tissue=''\n",
    "n_top_sets=25\n",
    "entire_sets=False \n",
    "context_on = False\n",
    "\n",
    "gsea=pickle.load(open('gsea_collections.symbols.p','rb'))\n",
    "gene_sets=pd.read_csv('SetTestWeights_{}_RNA.and.protein.txt'.format(collection),sep='\\t',index_col=0)[tissue].sort_values(ascending=False).index.tolist() if tissue else list(gsea[collection].keys())\n",
    "gene2cpg=pickle.load(open('gene2cpg.p','rb'))\n",
    "if not tissue:\n",
    "    n_top_sets=0\n",
    "if n_top_sets:\n",
    "    gene_sets=gene_sets[:n_top_sets]\n",
    "capsules=dict()\n",
    "context_on=entire_sets if entire_sets else context_on\n",
    "for gene_set in gene_sets:\n",
    "    gene_set_cpgs=[]\n",
    "    for genename in gsea[collection][gene_set]:\n",
    "        gene=gene2cpg.get(genename,{'Gene':[],'Upstream':[]})\n",
    "        if context_on:\n",
    "            for k in ['Gene','Upstream']:\n",
    "                context=gene.get(k,[])\n",
    "                if context:\n",
    "                    capsules['{}_{}'.format(genename,k)]=context.tolist()\n",
    "        else:\n",
    "            if not entire_sets:\n",
    "                capsules[genename]=np.union1d(gene.get('Gene',[]),gene.get('Upstream',[])).tolist()\n",
    "            else:\n",
    "                gene_set_cpgs.append(np.union1d(gene.get('Gene',[]),gene.get('Upstream',[])))\n",
    "    if entire_sets:\n",
    "        capsules[gene_set]=reduce(np.union1d,gene_set_cpgs).tolist()\n",
    "            \n",
    "        \n",
    "#{gene:gene2cpg.get(gene,[]) for gene_set in gene_sets for gene in gsea[collection][gene_set]}\n",
    "#{gene_set:reduce(np.union1d,[list(gene2cpg.get(gene,{'Gene':[],'Upstream':[]}).values()) for gene in gsea[collection][gene_set]])  for gene_set in gene_sets}"
   ]
  },
  {
   "cell_type": "code",
   "execution_count": 159,
   "metadata": {},
   "outputs": [],
   "source": [
    "#capsules.keys()"
   ]
  },
  {
   "cell_type": "code",
   "execution_count": 9,
   "metadata": {},
   "outputs": [],
   "source": [
    "genes=pickle.load(open('../../methylcapsnet/data/selected_capsules.p','rb'))\n"
   ]
  },
  {
   "cell_type": "code",
   "execution_count": 10,
   "metadata": {},
   "outputs": [
    {
     "data": {
      "text/plain": [
       "dict_keys(['UCSC_RefGene_Name', 'UCSC_RefGene_Accession', 'UCSC_RefGene_Group', 'UCSC_CpG_Islands_Name', 'Relation_to_UCSC_CpG_Island', 'Phantom', 'DMR', 'Enhancer', 'HMM_Island', 'Regulatory_Feature_Name', 'Regulatory_Feature_Group', 'DHS'])"
      ]
     },
     "execution_count": 10,
     "metadata": {},
     "output_type": "execute_result"
    }
   ],
   "source": [
    "genes.keys()"
   ]
  },
  {
   "cell_type": "code",
   "execution_count": 11,
   "metadata": {},
   "outputs": [],
   "source": [
    "accessions=np.array(list(genes['UCSC_RefGene_Accession'].keys()))\n",
    "names=np.array(list(genes['UCSC_RefGene_Name'].keys()))\n",
    "accession2names=dict(zip(accessions,names))"
   ]
  },
  {
   "cell_type": "code",
   "execution_count": 23,
   "metadata": {},
   "outputs": [],
   "source": [
    "#accession2names"
   ]
  },
  {
   "cell_type": "code",
   "execution_count": 54,
   "metadata": {},
   "outputs": [],
   "source": [
    "accessions\n",
    "id2accession=dict(zip(np.vectorize(lambda x: int(x[3:]))(accessions),accessions))"
   ]
  },
  {
   "cell_type": "code",
   "execution_count": 38,
   "metadata": {},
   "outputs": [
    {
     "data": {
      "text/plain": [
       "array([  2167,   9370,   5468,   3991,   8694,   4023,   1376,    948,\n",
       "        57678,  79602,  10449,   2109,     51,     34,   3033,   3417,\n",
       "        10580,     35,  83549,   6342,   1666,   1031,   6888,   7263,\n",
       "        56922,   5236,   7905,  23786,   1468,   4199,   5264, 415116,\n",
       "         7532,   4706,   2820, 149685,   1892,   5860,   1431,   1891,\n",
       "         6576,     33,  10140,  80273,   1384,   2632,   8436,    949,\n",
       "        10400, 400916,    204,    348,  29796,  10010,  51129,     50,\n",
       "         2184,     47,   3459,   8884,  84522,   2053,   3421,   2878,\n",
       "        84173,   5004,  54884,   2101,  26275,   8802,   6776,   3679,\n",
       "        56246,    123,   1537,    217,  26994,    226,   6817,   1652,\n",
       "         6390,    977, 376497,    593,    718,   3952,    112,  79071,\n",
       "         4056,   8404,  55177,  23788,  65124,   6510,  51727,  92840,\n",
       "         4698,   8322, 128338,   4259,    483,  56729,   2040,  23344,\n",
       "        27069,  29103,   1647,   7423,   5211,  51805,  64859,   1580,\n",
       "         5495,    369, 284119,   1282,  10989,  51635,   1306,   4836,\n",
       "        84274,   3910,  56894,  11176,   3419,   3977,  10113,   5733,\n",
       "        10243,   5209,   2879,   8082,  58472,  54996,   1738,  80760,\n",
       "         9936,  64225, 137964,  10162,   7086,   7384,    847,   4958,\n",
       "         1737,  29088,   8780,  10313,   1147,   9908,   6391,  25813,\n",
       "        10124,   6623,  27250,  57017,    334,   6647,  55037,  23187,\n",
       "         5168,  26353,   9131,    901,  84919,   4191,     19,   1349,\n",
       "         4638,   1351,  25979,  84895,  11343,   6453,   1717,   6239,\n",
       "       134147,   7316,    539,  10935,   1629,   4722,  28512,  83871,\n",
       "         1149,  27089,   5195,    604,   1337,   4189,   8491,    284,\n",
       "        29979,   4713,   6573,  11194, 130814,   5447,   7351,  10975])"
      ]
     },
     "execution_count": 38,
     "metadata": {},
     "output_type": "execute_result"
    }
   ],
   "source": [
    "#id2accession\n",
    "np.array(gsea['H'][gene_sets[0]]).astype(int)"
   ]
  },
  {
   "cell_type": "code",
   "execution_count": 67,
   "metadata": {},
   "outputs": [],
   "source": [
    "top_gene_sets={id2accession[i]: genes['UCSC_RefGene_Accession'][id2accession[i]] for gene_set in gene_sets for i in np.array(gsea['H'][gene_set]).astype(int) if i in id2accession}\n"
   ]
  },
  {
   "cell_type": "code",
   "execution_count": 65,
   "metadata": {},
   "outputs": [],
   "source": [
    "top_gene_sets={gene_set:reduce(lambda x,y: x+y,[genes['UCSC_RefGene_Accession'][id2accession[i]] for i in np.array(gsea['H'][gene_set]).astype(int) if i in id2accession]) for gene_set in gene_sets}\n",
    "\n",
    "\n",
    "#top_gene_sets={k2:top_gene_sets[k1][k2] for k1 in top_gene_sets for k2 in top_gene_sets[k1]}\n",
    "        "
   ]
  },
  {
   "cell_type": "code",
   "execution_count": 1,
   "metadata": {},
   "outputs": [],
   "source": [
    "#top_gene_sets"
   ]
  },
  {
   "cell_type": "code",
   "execution_count": 44,
   "metadata": {},
   "outputs": [
    {
     "data": {
      "text/plain": [
       "44770"
      ]
     },
     "execution_count": 44,
     "metadata": {},
     "output_type": "execute_result"
    }
   ],
   "source": [
    "sum([len(top_gene_sets[gene_set]) for gene_set in top_gene_sets])"
   ]
  },
  {
   "cell_type": "code",
   "execution_count": 2,
   "metadata": {},
   "outputs": [],
   "source": [
    "#top_gene_sets"
   ]
  },
  {
   "cell_type": "code",
   "execution_count": null,
   "metadata": {},
   "outputs": [],
   "source": []
  }
 ],
 "metadata": {
  "kernelspec": {
   "display_name": "Python 3",
   "language": "python",
   "name": "python3"
  },
  "language_info": {
   "codemirror_mode": {
    "name": "ipython",
    "version": 3
   },
   "file_extension": ".py",
   "mimetype": "text/x-python",
   "name": "python",
   "nbconvert_exporter": "python",
   "pygments_lexer": "ipython3",
   "version": "3.7.5"
  }
 },
 "nbformat": 4,
 "nbformat_minor": 4
}
