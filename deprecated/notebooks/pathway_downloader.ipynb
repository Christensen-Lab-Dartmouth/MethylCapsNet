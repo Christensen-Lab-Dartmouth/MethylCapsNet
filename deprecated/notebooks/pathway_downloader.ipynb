{
 "cells": [
  {
   "cell_type": "code",
   "execution_count": 50,
   "metadata": {},
   "outputs": [],
   "source": [
    "from bioservices import KEGG\n",
    "from functools import reduce"
   ]
  },
  {
   "cell_type": "code",
   "execution_count": 4,
   "metadata": {},
   "outputs": [],
   "source": [
    "s=KEGG()"
   ]
  },
  {
   "cell_type": "code",
   "execution_count": 29,
   "metadata": {},
   "outputs": [
    {
     "data": {
      "text/plain": [
       "'hsa:3417\\tIDH1, HEL-216, HEL-S-26, IDCD, IDH, IDP, IDPC, PICD; isocitrate dehydrogenase (NADP(+)) 1'"
      ]
     },
     "execution_count": 29,
     "metadata": {},
     "output_type": "execute_result"
    }
   ],
   "source": [
    "s.find(\"hsa\", \"idh1\").splitlines()[0].split('\\t')[-1]"
   ]
  },
  {
   "cell_type": "code",
   "execution_count": 56,
   "metadata": {},
   "outputs": [],
   "source": [
    "def display_pathways(gene, print_path=False):\n",
    "    pathways=s.find(\"hsa\", gene).splitlines()\n",
    "    if print_path:\n",
    "        print('\\n'.join(['\\t'.join([str(k),v]) for k,v in enumerate(pathways)]))\n",
    "    return pathways\n",
    "\n",
    "def extract_genes_from_pathway(pathways,l):\n",
    "    if 'all' in l:\n",
    "        l=range(len(pathways))\n",
    "    return list(set(list(reduce(lambda x,y:x+y, [list(map(lambda x: x.replace(' ',''),pathways[j].split('\\t')[1].split(';')[0].split(',')))  for j in l]))))\n",
    "    \n",
    "    "
   ]
  },
  {
   "cell_type": "code",
   "execution_count": 85,
   "metadata": {},
   "outputs": [],
   "source": [
    "# brain cancer\n",
    "pathways={}\n",
    "pathways['SHH']=extract_genes_from_pathway(display_pathways('SHH'),['all'])\n",
    "pathways['WNT']=extract_genes_from_pathway(display_pathways('WNT'),['all'])\n",
    "pathways['p53']=extract_genes_from_pathway(display_pathways('p53'),['all'])\n",
    "pathways['tp53']=extract_genes_from_pathway(display_pathways('tp53'),['all'])\n",
    "pathways['braf']=extract_genes_from_pathway(display_pathways('braf'),['all'])\n",
    "pathways['daxx']=extract_genes_from_pathway(display_pathways('daxx'),['all'])\n",
    "pathways['kdm6a']=extract_genes_from_pathway(display_pathways('kdm6a'),[1])\n",
    "pathways['pten']=extract_genes_from_pathway(display_pathways('pten'),['all'])\n",
    "pathways['rela']=extract_genes_from_pathway(display_pathways('rela'),[478])\n",
    "pathways['GADD34']=extract_genes_from_pathway(display_pathways('GADD34'),['all'])\n",
    "pathways['dkk1']=extract_genes_from_pathway(display_pathways('dkk1'),['all'])\n",
    "pathways['idh']=extract_genes_from_pathway(display_pathways('idh'),['all'])\n",
    "pathways['atrx']=extract_genes_from_pathway(display_pathways('atrx'),['all'])\n",
    "pathways['dnmt3A']=extract_genes_from_pathway(display_pathways('dnmt3A'),['all'])\n",
    "pathways['tert']=extract_genes_from_pathway(display_pathways('tert'),['all'])\n",
    "pathways['myc']=extract_genes_from_pathway(display_pathways('myc'),[1,3,8,12,14,16,17,21,20])\n",
    "pathways['CTNNB1']=extract_genes_from_pathway(display_pathways('CTNNB1'),[0])\n",
    "pathways['C11orf95']=extract_genes_from_pathway(display_pathways('C11orf95'),['all'])\n",
    "pathways['KIAA1549']=extract_genes_from_pathway(display_pathways('KIAA1549'),['all'])\n",
    "\n",
    "pathways['CDKN2A']=extract_genes_from_pathway(display_pathways('CDKN2A'),[2])\n",
    "\n",
    "pathways['H3F3A']=extract_genes_from_pathway(display_pathways('H3F3A'),['all'])\n",
    "pathways['L1CAM']=extract_genes_from_pathway(display_pathways('L1CAM'),[1])\n",
    "\n",
    "\n",
    "\n"
   ]
  },
  {
   "cell_type": "code",
   "execution_count": 100,
   "metadata": {},
   "outputs": [],
   "source": [
    "pathways['YAP1']=extract_genes_from_pathway(display_pathways('YAP1'),[4])\n",
    "pathways['MBEN']=extract_genes_from_pathway(display_pathways('MBEN'),['all'])\n",
    "pathways['PTCH1']=extract_genes_from_pathway(display_pathways('PTCH1'),['all'])\n",
    "pathways['GAB1']=extract_genes_from_pathway(display_pathways('GAB1'),['all'])\n",
    "pathways['SFRP']=extract_genes_from_pathway(display_pathways('SFRP'),['all'])\n",
    "pathways['GLI1']=extract_genes_from_pathway(display_pathways('GLI1'),['all'])\n",
    "pathways['NPR3']=extract_genes_from_pathway(display_pathways('NPR3'),[0])\n",
    "pathways['KCNA1']=extract_genes_from_pathway(display_pathways('KCNA1'),[0])\n"
   ]
  },
  {
   "cell_type": "code",
   "execution_count": 101,
   "metadata": {},
   "outputs": [],
   "source": [
    "target_genes=list(set(list(reduce(lambda x,y:x+y, [pathways[k] for k in pathways]))))"
   ]
  },
  {
   "cell_type": "code",
   "execution_count": 102,
   "metadata": {},
   "outputs": [],
   "source": [
    "with open('target_genes.txt','w') as f:\n",
    "    f.write('\\n'.join(target_genes))"
   ]
  },
  {
   "cell_type": "code",
   "execution_count": 99,
   "metadata": {},
   "outputs": [
    {
     "name": "stdout",
     "output_type": "stream",
     "text": [
      "0\thsa:3736\tKCNA1, AEMK, EA1, HBK1, HUK1, KV1.1, MBK1, MK1, RBK1; potassium voltage-gated channel subfamily A member 1\n",
      "1\thsa:3785\tKCNQ2, BFNC, EBN, EBN1, ENB1, HNSPC, KCNA11, KV7.2; potassium voltage-gated channel subfamily Q member 2\n",
      "2\thsa:3744\tKCNA10, Kcn1, Kv1.8; potassium voltage-gated channel subfamily A member 10\n",
      "3\thsa:7881\tKCNAB1, AKR6A3, KCNA1B, KV-BETA-1, Kvb1.3, hKvBeta3, hKvb3; potassium voltage-gated channel subfamily A member regulatory beta subunit 1\n"
     ]
    },
    {
     "data": {
      "text/plain": [
       "['hsa:3736\\tKCNA1, AEMK, EA1, HBK1, HUK1, KV1.1, MBK1, MK1, RBK1; potassium voltage-gated channel subfamily A member 1',\n",
       " 'hsa:3785\\tKCNQ2, BFNC, EBN, EBN1, ENB1, HNSPC, KCNA11, KV7.2; potassium voltage-gated channel subfamily Q member 2',\n",
       " 'hsa:3744\\tKCNA10, Kcn1, Kv1.8; potassium voltage-gated channel subfamily A member 10',\n",
       " 'hsa:7881\\tKCNAB1, AKR6A3, KCNA1B, KV-BETA-1, Kvb1.3, hKvBeta3, hKvb3; potassium voltage-gated channel subfamily A member regulatory beta subunit 1']"
      ]
     },
     "execution_count": 99,
     "metadata": {},
     "output_type": "execute_result"
    }
   ],
   "source": [
    "display_pathways('KCNA1',print_path=True)"
   ]
  },
  {
   "cell_type": "code",
   "execution_count": 84,
   "metadata": {},
   "outputs": [
    {
     "name": "stdout",
     "output_type": "stream",
     "text": [
      "0\thsa:3420\tIDH3B, RP46; isocitrate dehydrogenase (NAD(+)) 3 non-catalytic subunit beta\n",
      "1\thsa:4745\tNELL1, IDH3GL, NRP1; neural EGFL like 1\n",
      "2\thsa:3417\tIDH1, HEL-216, HEL-S-26, IDCD, IDH, IDP, IDPC, PICD; isocitrate dehydrogenase (NADP(+)) 1\n",
      "3\thsa:3418\tIDH2, D2HGA2, ICD-M, IDH, IDHM, IDP, IDPM, mNADP-IDH; isocitrate dehydrogenase (NADP(+)) 2\n",
      "4\thsa:3376\tIARS, GRIDHH, IARS1, ILERS, ILRS, IRS, PRO0785; isoleucyl-tRNA synthetase\n",
      "5\thsa:3421\tIDH3G, H-IDHG; isocitrate dehydrogenase (NAD(+)) 3 non-catalytic subunit gamma\n",
      "6\thsa:1795\tDOCK3, MOCA, NEDIDHA, PBP; dedicator of cytokinesis 3\n",
      "7\thsa:3419\tIDH3A; isocitrate dehydrogenase (NAD(+)) 3 catalytic subunit alpha\n"
     ]
    },
    {
     "data": {
      "text/plain": [
       "['hsa:3420\\tIDH3B, RP46; isocitrate dehydrogenase (NAD(+)) 3 non-catalytic subunit beta',\n",
       " 'hsa:4745\\tNELL1, IDH3GL, NRP1; neural EGFL like 1',\n",
       " 'hsa:3417\\tIDH1, HEL-216, HEL-S-26, IDCD, IDH, IDP, IDPC, PICD; isocitrate dehydrogenase (NADP(+)) 1',\n",
       " 'hsa:3418\\tIDH2, D2HGA2, ICD-M, IDH, IDHM, IDP, IDPM, mNADP-IDH; isocitrate dehydrogenase (NADP(+)) 2',\n",
       " 'hsa:3376\\tIARS, GRIDHH, IARS1, ILERS, ILRS, IRS, PRO0785; isoleucyl-tRNA synthetase',\n",
       " 'hsa:3421\\tIDH3G, H-IDHG; isocitrate dehydrogenase (NAD(+)) 3 non-catalytic subunit gamma',\n",
       " 'hsa:1795\\tDOCK3, MOCA, NEDIDHA, PBP; dedicator of cytokinesis 3',\n",
       " 'hsa:3419\\tIDH3A; isocitrate dehydrogenase (NAD(+)) 3 catalytic subunit alpha']"
      ]
     },
     "execution_count": 84,
     "metadata": {},
     "output_type": "execute_result"
    }
   ],
   "source": [
    "display_pathways('idh',print_path=True)"
   ]
  },
  {
   "cell_type": "code",
   "execution_count": 31,
   "metadata": {},
   "outputs": [
    {
     "data": {
      "text/plain": [
       "['IDH1', 'HEL-216', 'HEL-S-26', 'IDCD', 'IDH', 'IDP', 'IDPC', 'PICD']"
      ]
     },
     "execution_count": 31,
     "metadata": {},
     "output_type": "execute_result"
    }
   ],
   "source": [
    "list(map(lambda x: x.replace(' ',''),s.find(\"hsa\", \"idh1\").splitlines()[0].split('\\t')[1].split(';')[0].split(',')))"
   ]
  },
  {
   "cell_type": "code",
   "execution_count": 5,
   "metadata": {},
   "outputs": [],
   "source": [
    "s.organism = \"hsa\""
   ]
  },
  {
   "cell_type": "code",
   "execution_count": 12,
   "metadata": {},
   "outputs": [],
   "source": [
    "max_pathways = 10\n",
    "results = [s.get_pathway_by_gene(x,'hsa') for x in s.pathwayIds[0:max_pathways]]\n",
    "#relations = [x['relations'] for x in results]"
   ]
  },
  {
   "cell_type": "code",
   "execution_count": 18,
   "metadata": {},
   "outputs": [
    {
     "data": {
      "text/plain": [
       "{'hsa04150': 'mTOR signaling pathway',\n",
       " 'hsa04310': 'Wnt signaling pathway',\n",
       " 'hsa04390': 'Hippo signaling pathway',\n",
       " 'hsa04550': 'Signaling pathways regulating pluripotency of stem cells',\n",
       " 'hsa04916': 'Melanogenesis',\n",
       " 'hsa04934': 'Cushing syndrome',\n",
       " 'hsa05165': 'Human papillomavirus infection',\n",
       " 'hsa05200': 'Pathways in cancer',\n",
       " 'hsa05205': 'Proteoglycans in cancer',\n",
       " 'hsa05217': 'Basal cell carcinoma',\n",
       " 'hsa05224': 'Breast cancer',\n",
       " 'hsa05225': 'Hepatocellular carcinoma',\n",
       " 'hsa05226': 'Gastric cancer'}"
      ]
     },
     "execution_count": 18,
     "metadata": {},
     "output_type": "execute_result"
    }
   ],
   "source": [
    "s.get_pathway_by_gene('7478','hsa')"
   ]
  },
  {
   "cell_type": "code",
   "execution_count": 13,
   "metadata": {},
   "outputs": [
    {
     "data": {
      "text/plain": [
       "[None, None, None, None, None, None, None, None, None, None]"
      ]
     },
     "execution_count": 13,
     "metadata": {},
     "output_type": "execute_result"
    }
   ],
   "source": [
    "results"
   ]
  },
  {
   "cell_type": "code",
   "execution_count": 14,
   "metadata": {},
   "outputs": [
    {
     "data": {
      "text/plain": [
       "['path:hsa00010',\n",
       " 'path:hsa00020',\n",
       " 'path:hsa00030',\n",
       " 'path:hsa00040',\n",
       " 'path:hsa00051',\n",
       " 'path:hsa00052',\n",
       " 'path:hsa00053',\n",
       " 'path:hsa00061',\n",
       " 'path:hsa00062',\n",
       " 'path:hsa00071']"
      ]
     },
     "execution_count": 14,
     "metadata": {},
     "output_type": "execute_result"
    }
   ],
   "source": [
    "s.pathwayIds[0:max_pathways]"
   ]
  },
  {
   "cell_type": "code",
   "execution_count": null,
   "metadata": {},
   "outputs": [],
   "source": []
  }
 ],
 "metadata": {
  "kernelspec": {
   "display_name": "Python 3",
   "language": "python",
   "name": "python3"
  },
  "language_info": {
   "codemirror_mode": {
    "name": "ipython",
    "version": 3
   },
   "file_extension": ".py",
   "mimetype": "text/x-python",
   "name": "python",
   "nbconvert_exporter": "python",
   "pygments_lexer": "ipython3",
   "version": "3.6.8"
  }
 },
 "nbformat": 4,
 "nbformat_minor": 2
}
