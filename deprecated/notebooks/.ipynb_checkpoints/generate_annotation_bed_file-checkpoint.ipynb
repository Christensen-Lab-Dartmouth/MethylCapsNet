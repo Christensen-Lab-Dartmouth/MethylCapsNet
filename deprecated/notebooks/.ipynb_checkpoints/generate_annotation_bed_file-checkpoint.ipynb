{
 "cells": [
  {
   "cell_type": "code",
   "execution_count": 65,
   "metadata": {},
   "outputs": [],
   "source": [
    "import dask.dataframe as dd\n",
    "import pandas as pd, numpy as np\n",
    "from pybedtools import BedTool"
   ]
  },
  {
   "cell_type": "code",
   "execution_count": 80,
   "metadata": {},
   "outputs": [],
   "source": [
    "# df=dd.read_table('GPL13534-11288.txt',dtype={'Coordinate_36':'object','Genome_Build': 'float64',\n",
    "#        'MAPINFO': 'float64',\n",
    "#        'RANGE_END': 'int',\n",
    "#        'RANGE_START': 'int',\n",
    "#        'SPOT_ID': 'object'})\n",
    "df=pd.read_csv('GPL13534-11288.txt',sep='\\t', )\n"
   ]
  },
  {
   "cell_type": "code",
   "execution_count": 93,
   "metadata": {},
   "outputs": [],
   "source": [
    "df=df.set_index('ID')"
   ]
  },
  {
   "cell_type": "code",
   "execution_count": 82,
   "metadata": {},
   "outputs": [],
   "source": [
    "from collections import Counter"
   ]
  },
  {
   "cell_type": "code",
   "execution_count": 83,
   "metadata": {},
   "outputs": [],
   "source": [
    "from functools import reduce"
   ]
  },
  {
   "cell_type": "code",
   "execution_count": 84,
   "metadata": {},
   "outputs": [
    {
     "data": {
      "text/plain": [
       "[('Island', 150254),\n",
       " ('N_Shore', 62870),\n",
       " ('S_Shore', 49197),\n",
       " ('N_Shelf', 24844),\n",
       " ('S_Shelf', 22300)]"
      ]
     },
     "execution_count": 84,
     "metadata": {},
     "output_type": "execute_result"
    }
   ],
   "source": [
    "k='Relation_to_UCSC_CpG_Island'\n",
    "Counter(';'.join(df[k][(~df[k].isnull())].astype(str).tolist()).split(';')).most_common(12)"
   ]
  },
  {
   "cell_type": "code",
   "execution_count": 98,
   "metadata": {},
   "outputs": [],
   "source": [
    "capsules={}\n",
    "for k in df.columns.values[21:-4]:\n",
    "    capsules[k]={k2:[] for k2 in np.unique(np.array(';'.join(df[k][(~df[k].isnull())].astype(str).tolist()).split(';')))}\n",
    "    \n",
    "    "
   ]
  },
  {
   "cell_type": "code",
   "execution_count": 99,
   "metadata": {},
   "outputs": [],
   "source": [
    "for cpg in df.index:\n",
    "    for k in df.columns.values[21:-4]:\n",
    "        v=str(df.loc[cpg,k])\n",
    "        for v2 in v.split(';'):\n",
    "            if v2!='nan':\n",
    "                capsules[k][v2].append(cpg)\n",
    "        \n",
    "            "
   ]
  },
  {
   "cell_type": "code",
   "execution_count": 107,
   "metadata": {},
   "outputs": [],
   "source": [
    "import pickle"
   ]
  },
  {
   "cell_type": "code",
   "execution_count": 116,
   "metadata": {},
   "outputs": [
    {
     "data": {
      "text/plain": [
       "{'UCSC_RefGene_Accession': 21,\n",
       " 'UCSC_RefGene_Group': 114522,\n",
       " 'UCSC_CpG_Islands_Name': 11,\n",
       " 'Relation_to_UCSC_CpG_Island': 61893,\n",
       " 'Phantom': 2,\n",
       " 'DMR': 12445,\n",
       " 'Enhancer': 102559,\n",
       " 'HMM_Island': 3,\n",
       " 'Regulatory_Feature_Name': 3,\n",
       " 'Regulatory_Feature_Group': 21261,\n",
       " 'DHS': 59916}"
      ]
     },
     "execution_count": 116,
     "metadata": {},
     "output_type": "execute_result"
    }
   ],
   "source": [
    "{k:int(np.mean(([len(capsules[k][k2]) for k2 in capsules[k]]))) for k in  list(capsules.keys())}"
   ]
  },
  {
   "cell_type": "code",
   "execution_count": 108,
   "metadata": {},
   "outputs": [],
   "source": [
    "pickle.dump(capsules,open('capsules.p','wb'))#['Enhancer']#.keys()#['False']=np.setdiff1d(df.index,capsules['Enhancer']['True'])"
   ]
  },
  {
   "cell_type": "code",
   "execution_count": 47,
   "metadata": {},
   "outputs": [],
   "source": [
    "def to_int(chrom):\n",
    "    try:\n",
    "        chrom=int(chrom)\n",
    "    except:\n",
    "        pass\n",
    "    return chrom"
   ]
  },
  {
   "cell_type": "code",
   "execution_count": 70,
   "metadata": {},
   "outputs": [],
   "source": [
    "df=df[['Chromosome_36','Coordinate_36','Name']].dropna()\n",
    "df=df[df['Chromosome_36']!='MULTI']\n",
    "df.loc[:,'Chromosome_36']=np.vectorize(to_int)(df.loc[:,'Chromosome_36'])\n",
    "#df['Start']=df['Coordinate_36'].astype(int)\n",
    "\n"
   ]
  },
  {
   "cell_type": "code",
   "execution_count": 71,
   "metadata": {},
   "outputs": [
    {
     "data": {
      "text/plain": [
       "array(['Y', 'X', '1', '2', '3', '4', '5', '6', '7', '8', '9', '10', '11',\n",
       "       '12', '13', '14', '15', '16', '17', '18', '19', '20', '21', '22'],\n",
       "      dtype=object)"
      ]
     },
     "execution_count": 71,
     "metadata": {},
     "output_type": "execute_result"
    }
   ],
   "source": [
    "df['Chromosome_36'].unique()"
   ]
  },
  {
   "cell_type": "code",
   "execution_count": 74,
   "metadata": {},
   "outputs": [],
   "source": [
    "df['Start']=df['Coordinate_36'].astype(int)\n",
    "df['End']=df['Start']+1"
   ]
  },
  {
   "cell_type": "code",
   "execution_count": 23,
   "metadata": {},
   "outputs": [
    {
     "data": {
      "text/html": [
       "<div>\n",
       "<style scoped>\n",
       "    .dataframe tbody tr th:only-of-type {\n",
       "        vertical-align: middle;\n",
       "    }\n",
       "\n",
       "    .dataframe tbody tr th {\n",
       "        vertical-align: top;\n",
       "    }\n",
       "\n",
       "    .dataframe thead th {\n",
       "        text-align: right;\n",
       "    }\n",
       "</style>\n",
       "<table border=\"1\" class=\"dataframe\">\n",
       "  <thead>\n",
       "    <tr style=\"text-align: right;\">\n",
       "      <th></th>\n",
       "      <th>CHR</th>\n",
       "      <th>RANGE_START</th>\n",
       "      <th>RANGE_END</th>\n",
       "      <th>Name</th>\n",
       "    </tr>\n",
       "  </thead>\n",
       "  <tbody>\n",
       "    <tr>\n",
       "      <th>0</th>\n",
       "      <td>Y</td>\n",
       "      <td>8553009</td>\n",
       "      <td>8553132</td>\n",
       "      <td>cg00035864</td>\n",
       "    </tr>\n",
       "    <tr>\n",
       "      <th>1</th>\n",
       "      <td>Y</td>\n",
       "      <td>9363356</td>\n",
       "      <td>9363479</td>\n",
       "      <td>cg00050873</td>\n",
       "    </tr>\n",
       "    <tr>\n",
       "      <th>2</th>\n",
       "      <td>Y</td>\n",
       "      <td>25314171</td>\n",
       "      <td>25314294</td>\n",
       "      <td>cg00061679</td>\n",
       "    </tr>\n",
       "    <tr>\n",
       "      <th>3</th>\n",
       "      <td>Y</td>\n",
       "      <td>22741795</td>\n",
       "      <td>22741918</td>\n",
       "      <td>cg00063477</td>\n",
       "    </tr>\n",
       "    <tr>\n",
       "      <th>4</th>\n",
       "      <td>Y</td>\n",
       "      <td>21664296</td>\n",
       "      <td>21664419</td>\n",
       "      <td>cg00121626</td>\n",
       "    </tr>\n",
       "  </tbody>\n",
       "</table>\n",
       "</div>"
      ],
      "text/plain": [
       "  CHR  RANGE_START  RANGE_END        Name\n",
       "0   Y      8553009    8553132  cg00035864\n",
       "1   Y      9363356    9363479  cg00050873\n",
       "2   Y     25314171   25314294  cg00061679\n",
       "3   Y     22741795   22741918  cg00063477\n",
       "4   Y     21664296   21664419  cg00121626"
      ]
     },
     "execution_count": 23,
     "metadata": {},
     "output_type": "execute_result"
    }
   ],
   "source": []
  },
  {
   "cell_type": "code",
   "execution_count": 75,
   "metadata": {},
   "outputs": [],
   "source": [
    "annotation450k=BedTool.from_dataframe(df[['Chromosome_36','Start','End','Name']]) # .compute()"
   ]
  },
  {
   "cell_type": "code",
   "execution_count": 76,
   "metadata": {},
   "outputs": [
    {
     "data": {
      "text/plain": [
       "<BedTool(450kannotations.bed)>"
      ]
     },
     "execution_count": 76,
     "metadata": {},
     "output_type": "execute_result"
    }
   ],
   "source": [
    "annotation450k.saveas('450kannotations.bed')"
   ]
  },
  {
   "cell_type": "code",
   "execution_count": null,
   "metadata": {},
   "outputs": [],
   "source": [
    "df.loc[:,['Coordinate_36','RANGE_END']]=df.loc[:,['Coordinate_36','RANGE_END']].astype(int)\n",
    "df['End']=df['Start']+1\n",
    "df=df[['CHR','Start','End','Name']]\n",
    "df=df[df['Chromosome_36']!='MULTI']\n",
    "df.loc[:,'Chromosome_36']=np.vectorize(to_int)(df.loc[:,'Chromosome_36'])"
   ]
  }
 ],
 "metadata": {
  "kernelspec": {
   "display_name": "Python 3",
   "language": "python",
   "name": "python3"
  },
  "language_info": {
   "codemirror_mode": {
    "name": "ipython",
    "version": 3
   },
   "file_extension": ".py",
   "mimetype": "text/x-python",
   "name": "python",
   "nbconvert_exporter": "python",
   "pygments_lexer": "ipython3",
   "version": "3.6.8"
  }
 },
 "nbformat": 4,
 "nbformat_minor": 2
}
