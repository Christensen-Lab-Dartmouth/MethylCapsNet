{
 "cells": [
  {
   "cell_type": "code",
   "execution_count": 1,
   "metadata": {},
   "outputs": [],
   "source": [
    "import dask.dataframe as dd\n",
    "import pandas as pd, numpy as np\n",
    "from pybedtools import BedTool"
   ]
  },
  {
   "cell_type": "code",
   "execution_count": 5,
   "metadata": {},
   "outputs": [],
   "source": [
    "# df=dd.read_table('GPL13534-11288.txt',dtype={'Coordinate_36':'object','Genome_Build': 'float64',\n",
    "#        'MAPINFO': 'float64',\n",
    "#        'RANGE_END': 'int',\n",
    "#        'RANGE_START': 'int',\n",
    "#        'SPOT_ID': 'object'})\n",
    "df=pd.read_csv('GPL13534-11288.txt',sep='\\t', )\n"
   ]
  },
  {
   "cell_type": "code",
   "execution_count": 3,
   "metadata": {},
   "outputs": [
    {
     "data": {
      "text/plain": [
       "Index(['ID', 'Name', 'AddressA_ID', 'AlleleA_ProbeSeq', 'AddressB_ID',\n",
       "       'AlleleB_ProbeSeq', 'Infinium_Design_Type', 'Next_Base',\n",
       "       'Color_Channel', 'Forward_Sequence', 'Genome_Build', 'CHR', 'MAPINFO',\n",
       "       'SourceSeq', 'Chromosome_36', 'Coordinate_36', 'Strand', 'Probe_SNPs',\n",
       "       'Probe_SNPs_10', 'Random_Loci', 'Methyl27_Loci', 'UCSC_RefGene_Name',\n",
       "       'UCSC_RefGene_Accession', 'UCSC_RefGene_Group', 'UCSC_CpG_Islands_Name',\n",
       "       'Relation_to_UCSC_CpG_Island', 'Phantom', 'DMR', 'Enhancer',\n",
       "       'HMM_Island', 'Regulatory_Feature_Name', 'Regulatory_Feature_Group',\n",
       "       'DHS', 'RANGE_START', 'RANGE_END', 'RANGE_GB', 'SPOT_ID'],\n",
       "      dtype='object')"
      ]
     },
     "execution_count": 3,
     "metadata": {},
     "output_type": "execute_result"
    }
   ],
   "source": [
    "df.columns"
   ]
  },
  {
   "cell_type": "code",
   "execution_count": 6,
   "metadata": {},
   "outputs": [
    {
     "data": {
      "text/plain": [
       "dict_keys(['UCSC_RefGene_Accession', 'UCSC_RefGene_Group', 'UCSC_CpG_Islands_Name', 'Relation_to_UCSC_CpG_Island', 'Phantom', 'DMR', 'Enhancer', 'HMM_Island', 'Regulatory_Feature_Name', 'Regulatory_Feature_Group', 'DHS'])"
      ]
     },
     "execution_count": 6,
     "metadata": {},
     "output_type": "execute_result"
    }
   ],
   "source": [
    "{'UCSC_RefGene_Accession': 17,\n",
    "'UCSC_RefGene_Group': 96135,\n",
    "'UCSC_CpG_Islands_Name': 11,\n",
    "'Relation_to_UCSC_CpG_Island': 49197,\n",
    "'Phantom': 2,\n",
    "'DMR': 12231,\n",
    "'Enhancer': 102559,\n",
    "'HMM_Island': 3,\n",
    "'Regulatory_Feature_Name': 1,\n",
    "'Regulatory_Feature_Group': 4045,\n",
    "'DHS': 59916}.keys()"
   ]
  },
  {
   "cell_type": "code",
   "execution_count": 4,
   "metadata": {},
   "outputs": [],
   "source": [
    "df=df.set_index('ID')"
   ]
  },
  {
   "cell_type": "code",
   "execution_count": 82,
   "metadata": {},
   "outputs": [],
   "source": [
    "from collections import Counter"
   ]
  },
  {
   "cell_type": "code",
   "execution_count": 83,
   "metadata": {},
   "outputs": [],
   "source": [
    "from functools import reduce"
   ]
  },
  {
   "cell_type": "code",
   "execution_count": 84,
   "metadata": {},
   "outputs": [
    {
     "data": {
      "text/plain": [
       "[('Island', 150254),\n",
       " ('N_Shore', 62870),\n",
       " ('S_Shore', 49197),\n",
       " ('N_Shelf', 24844),\n",
       " ('S_Shelf', 22300)]"
      ]
     },
     "execution_count": 84,
     "metadata": {},
     "output_type": "execute_result"
    }
   ],
   "source": [
    "k='Relation_to_UCSC_CpG_Island'\n",
    "Counter(';'.join(df[k][(~df[k].isnull())].astype(str).tolist()).split(';')).most_common(12)"
   ]
  },
  {
   "cell_type": "code",
   "execution_count": 98,
   "metadata": {},
   "outputs": [],
   "source": [
    "capsules={}\n",
    "for k in df.columns.values[21:-4]:\n",
    "    capsules[k]={k2:[] for k2 in np.unique(np.array(';'.join(df[k][(~df[k].isnull())].astype(str).tolist()).split(';')))}\n",
    "    \n",
    "    "
   ]
  },
  {
   "cell_type": "code",
   "execution_count": 99,
   "metadata": {},
   "outputs": [],
   "source": [
    "for cpg in df.index:\n",
    "    for k in df.columns.values[21:-4]:\n",
    "        v=str(df.loc[cpg,k])\n",
    "        for v2 in v.split(';'):\n",
    "            if v2!='nan':\n",
    "                capsules[k][v2].append(cpg)\n",
    "        \n",
    "            "
   ]
  },
  {
   "cell_type": "code",
   "execution_count": 107,
   "metadata": {},
   "outputs": [],
   "source": [
    "import pickle"
   ]
  },
  {
   "cell_type": "code",
   "execution_count": 116,
   "metadata": {},
   "outputs": [
    {
     "data": {
      "text/plain": [
       "{'UCSC_RefGene_Accession': 21,\n",
       " 'UCSC_RefGene_Group': 114522,\n",
       " 'UCSC_CpG_Islands_Name': 11,\n",
       " 'Relation_to_UCSC_CpG_Island': 61893,\n",
       " 'Phantom': 2,\n",
       " 'DMR': 12445,\n",
       " 'Enhancer': 102559,\n",
       " 'HMM_Island': 3,\n",
       " 'Regulatory_Feature_Name': 3,\n",
       " 'Regulatory_Feature_Group': 21261,\n",
       " 'DHS': 59916}"
      ]
     },
     "execution_count": 116,
     "metadata": {},
     "output_type": "execute_result"
    }
   ],
   "source": [
    "{k:int(np.mean(([len(capsules[k][k2]) for k2 in capsules[k]]))) for k in  list(capsules.keys())}"
   ]
  },
  {
   "cell_type": "code",
   "execution_count": 108,
   "metadata": {},
   "outputs": [],
   "source": [
    "pickle.dump(capsules,open('capsules.p','wb'))#['Enhancer']#.keys()#['False']=np.setdiff1d(df.index,capsules['Enhancer']['True'])"
   ]
  },
  {
   "cell_type": "code",
   "execution_count": 13,
   "metadata": {},
   "outputs": [],
   "source": [
    "def to_int(chrom):\n",
    "    try:\n",
    "        chrom=int(chrom)\n",
    "    except:\n",
    "        pass\n",
    "    return chrom"
   ]
  },
  {
   "cell_type": "code",
   "execution_count": 70,
   "metadata": {},
   "outputs": [],
   "source": [
    "df=df[['Chromosome_36','Coordinate_36','Name']].dropna()\n",
    "df=df[df['Chromosome_36']!='MULTI']\n",
    "df.loc[:,'Chromosome_36']=np.vectorize(to_int)(df.loc[:,'Chromosome_36'])\n",
    "#df['Start']=df['Coordinate_36'].astype(int)\n",
    "\n"
   ]
  },
  {
   "cell_type": "code",
   "execution_count": null,
   "metadata": {},
   "outputs": [],
   "source": []
  },
  {
   "cell_type": "code",
   "execution_count": 71,
   "metadata": {},
   "outputs": [
    {
     "data": {
      "text/plain": [
       "array(['Y', 'X', '1', '2', '3', '4', '5', '6', '7', '8', '9', '10', '11',\n",
       "       '12', '13', '14', '15', '16', '17', '18', '19', '20', '21', '22'],\n",
       "      dtype=object)"
      ]
     },
     "execution_count": 71,
     "metadata": {},
     "output_type": "execute_result"
    }
   ],
   "source": [
    "df['Chromosome_36'].unique()"
   ]
  },
  {
   "cell_type": "code",
   "execution_count": 74,
   "metadata": {},
   "outputs": [],
   "source": [
    "df['Start']=df['Coordinate_36'].astype(int)\n",
    "df['End']=df['Start']+1"
   ]
  },
  {
   "cell_type": "code",
   "execution_count": 8,
   "metadata": {},
   "outputs": [],
   "source": [
    "df=df[['CHR','RANGE_START','RANGE_END','Name']]\n",
    "df=df[~df['RANGE_START'].isnull()]\n",
    "df.loc[:,['RANGE_START','RANGE_END']]=df.loc[:,['RANGE_START','RANGE_END']].astype(int)"
   ]
  },
  {
   "cell_type": "code",
   "execution_count": 14,
   "metadata": {},
   "outputs": [],
   "source": [
    "df.loc[:,'CHR']=np.vectorize(to_int)(df.loc[:,'CHR'])#.unique()"
   ]
  },
  {
   "cell_type": "code",
   "execution_count": 15,
   "metadata": {},
   "outputs": [
    {
     "data": {
      "text/plain": [
       "array(['Y', 'X', '1', '2', '3', '4', '5', '6', '7', '8', '9', '10', '11',\n",
       "       '12', '13', '14', '15', '16', '17', '18', '19', '20', '21', '22'],\n",
       "      dtype=object)"
      ]
     },
     "execution_count": 15,
     "metadata": {},
     "output_type": "execute_result"
    }
   ],
   "source": [
    "df['CHR'].unique()"
   ]
  },
  {
   "cell_type": "code",
   "execution_count": 16,
   "metadata": {},
   "outputs": [],
   "source": [
    "annotation450k=BedTool.from_dataframe(df[['CHR','RANGE_START','RANGE_END','Name']]) # .compute()"
   ]
  },
  {
   "cell_type": "code",
   "execution_count": 17,
   "metadata": {},
   "outputs": [
    {
     "name": "stdout",
     "output_type": "stream",
     "text": [
      "Y\t8553009\t8553132\tcg00035864\n",
      " Y\t9363356\t9363479\tcg00050873\n",
      " Y\t25314171\t25314294\tcg00061679\n",
      " Y\t22741795\t22741918\tcg00063477\n",
      " Y\t21664296\t21664419\tcg00121626\n",
      " Y\t21239348\t21239471\tcg00212031\n",
      " Y\t8148233\t8148356\tcg00213748\n",
      " Y\t15815688\t15815811\tcg00214611\n",
      " Y\t4868996\t4869119\tcg00223952\n",
      " Y\t6133740\t6133863\tcg00243321\n",
      " "
     ]
    }
   ],
   "source": [
    "annotation450k.head()"
   ]
  },
  {
   "cell_type": "code",
   "execution_count": 75,
   "metadata": {},
   "outputs": [],
   "source": [
    "annotation450k=BedTool.from_dataframe(df[['Chromosome_36','Start','End','Name']]) # .compute()"
   ]
  },
  {
   "cell_type": "code",
   "execution_count": 18,
   "metadata": {},
   "outputs": [
    {
     "data": {
      "text/plain": [
       "<BedTool(450kannotations.bed)>"
      ]
     },
     "execution_count": 18,
     "metadata": {},
     "output_type": "execute_result"
    }
   ],
   "source": [
    "annotation450k.saveas('450kannotations.bed')"
   ]
  },
  {
   "cell_type": "code",
   "execution_count": null,
   "metadata": {},
   "outputs": [],
   "source": [
    "df.loc[:,['Coordinate_36','RANGE_END']]=df.loc[:,['Coordinate_36','RANGE_END']].astype(int)\n",
    "df['End']=df['Start']+1\n",
    "df=df[['CHR','Start','End','Name']]\n",
    "df=df[df['Chromosome_36']!='MULTI']\n",
    "df.loc[:,'Chromosome_36']=np.vectorize(to_int)(df.loc[:,'Chromosome_36'])"
   ]
  }
 ],
 "metadata": {
  "kernelspec": {
   "display_name": "Python 3",
   "language": "python",
   "name": "python3"
  },
  "language_info": {
   "codemirror_mode": {
    "name": "ipython",
    "version": 3
   },
   "file_extension": ".py",
   "mimetype": "text/x-python",
   "name": "python",
   "nbconvert_exporter": "python",
   "pygments_lexer": "ipython3",
   "version": "3.6.8"
  }
 },
 "nbformat": 4,
 "nbformat_minor": 2
}
