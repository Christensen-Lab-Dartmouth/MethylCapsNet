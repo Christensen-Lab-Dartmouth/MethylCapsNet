{
 "cells": [
  {
   "cell_type": "code",
   "execution_count": 5,
   "metadata": {},
   "outputs": [],
   "source": [
    "import dask.dataframe as dd\n",
    "import pandas as pd, numpy as np\n",
    "from pybedtools import BedTool"
   ]
  },
  {
   "cell_type": "code",
   "execution_count": 6,
   "metadata": {},
   "outputs": [
    {
     "name": "stderr",
     "output_type": "stream",
     "text": [
      "/anaconda2/envs/py36/lib/python3.6/site-packages/IPython/core/interactiveshell.py:3049: DtypeWarning: Columns (11,14,15,36) have mixed types. Specify dtype option on import or set low_memory=False.\n",
      "  interactivity=interactivity, compiler=compiler, result=result)\n"
     ]
    }
   ],
   "source": [
    "# df=dd.read_table('GPL13534-11288.txt',dtype={'Coordinate_36':'object','Genome_Build': 'float64',\n",
    "#        'MAPINFO': 'float64',\n",
    "#        'RANGE_END': 'int',\n",
    "#        'RANGE_START': 'int',\n",
    "#        'SPOT_ID': 'object'})\n",
    "df=pd.read_csv('GPL13534-11288.txt',sep='\\t', )\n"
   ]
  },
  {
   "cell_type": "code",
   "execution_count": null,
   "metadata": {},
   "outputs": [],
   "source": [
    "df.columns"
   ]
  },
  {
   "cell_type": "code",
   "execution_count": null,
   "metadata": {},
   "outputs": [],
   "source": [
    "{'UCSC_RefGene_Accession': 17,\n",
    "'UCSC_RefGene_Group': 96135,\n",
    "'UCSC_CpG_Islands_Name': 11,\n",
    "'Relation_to_UCSC_CpG_Island': 49197,\n",
    "'Phantom': 2,\n",
    "'DMR': 12231,\n",
    "'Enhancer': 102559,\n",
    "'HMM_Island': 3,\n",
    "'Regulatory_Feature_Name': 1,\n",
    "'Regulatory_Feature_Group': 4045,\n",
    "'DHS': 59916}.keys()"
   ]
  },
  {
   "cell_type": "code",
   "execution_count": 7,
   "metadata": {},
   "outputs": [],
   "source": [
    "df=df.set_index('ID')"
   ]
  },
  {
   "cell_type": "code",
   "execution_count": 8,
   "metadata": {},
   "outputs": [],
   "source": [
    "from collections import Counter"
   ]
  },
  {
   "cell_type": "code",
   "execution_count": 9,
   "metadata": {},
   "outputs": [],
   "source": [
    "from functools import reduce"
   ]
  },
  {
   "cell_type": "code",
   "execution_count": 84,
   "metadata": {},
   "outputs": [
    {
     "data": {
      "text/plain": [
       "[('Island', 150254),\n",
       " ('N_Shore', 62870),\n",
       " ('S_Shore', 49197),\n",
       " ('N_Shelf', 24844),\n",
       " ('S_Shelf', 22300)]"
      ]
     },
     "execution_count": 84,
     "metadata": {},
     "output_type": "execute_result"
    }
   ],
   "source": [
    "k='Relation_to_UCSC_CpG_Island'\n",
    "Counter(';'.join(df[k][(~df[k].isnull())].astype(str).tolist()).split(';')).most_common(12)"
   ]
  },
  {
   "cell_type": "code",
   "execution_count": 7,
   "metadata": {},
   "outputs": [
    {
     "data": {
      "text/plain": [
       "dict_keys(['UCSC_RefGene_Name', 'UCSC_RefGene_Accession', 'UCSC_RefGene_Group', 'UCSC_CpG_Islands_Name', 'Relation_to_UCSC_CpG_Island', 'Phantom', 'DMR', 'Enhancer', 'HMM_Island', 'Regulatory_Feature_Name', 'Regulatory_Feature_Group', 'DHS'])"
      ]
     },
     "execution_count": 7,
     "metadata": {},
     "output_type": "execute_result"
    }
   ],
   "source": [
    "capsules.keys()"
   ]
  },
  {
   "cell_type": "code",
   "execution_count": 10,
   "metadata": {},
   "outputs": [],
   "source": [
    "capsules={}\n",
    "for k in df.columns.values[20:-4]:\n",
    "    capsules[k]={k2:[] for k2 in np.unique(np.array(';'.join(df[k][(~df[k].isnull())].astype(str).tolist()).split(';')))}\n",
    "    \n",
    "    "
   ]
  },
  {
   "cell_type": "code",
   "execution_count": 11,
   "metadata": {},
   "outputs": [],
   "source": [
    "for cpg in df.index:\n",
    "    for k in df.columns.values[20:-4]:\n",
    "        v=str(df.loc[cpg,k])\n",
    "        for v2 in v.split(';'):\n",
    "            if v2!='nan':\n",
    "                capsules[k][v2].append(cpg)\n",
    "        \n",
    "            "
   ]
  },
  {
   "cell_type": "code",
   "execution_count": 15,
   "metadata": {},
   "outputs": [],
   "source": [
    "for k in capsules:\n",
    "    for v2 in capsules[k]:\n",
    "        capsules[k][v2]=list(set(list(capsules[k][v2])))"
   ]
  },
  {
   "cell_type": "code",
   "execution_count": 12,
   "metadata": {},
   "outputs": [],
   "source": [
    "import pickle"
   ]
  },
  {
   "cell_type": "code",
   "execution_count": 116,
   "metadata": {},
   "outputs": [
    {
     "data": {
      "text/plain": [
       "{'UCSC_RefGene_Accession': 21,\n",
       " 'UCSC_RefGene_Group': 114522,\n",
       " 'UCSC_CpG_Islands_Name': 11,\n",
       " 'Relation_to_UCSC_CpG_Island': 61893,\n",
       " 'Phantom': 2,\n",
       " 'DMR': 12445,\n",
       " 'Enhancer': 102559,\n",
       " 'HMM_Island': 3,\n",
       " 'Regulatory_Feature_Name': 3,\n",
       " 'Regulatory_Feature_Group': 21261,\n",
       " 'DHS': 59916}"
      ]
     },
     "execution_count": 116,
     "metadata": {},
     "output_type": "execute_result"
    }
   ],
   "source": [
    "{k:int(np.mean(([len(capsules[k][k2]) for k2 in capsules[k]]))) for k in  list(capsules.keys())}"
   ]
  },
  {
   "cell_type": "code",
   "execution_count": 16,
   "metadata": {},
   "outputs": [],
   "source": [
    "pickle.dump(capsules,open('selected_capsules.p','wb'))#['Enhancer']#.keys()#['False']=np.setdiff1d(df.index,capsules['Enhancer']['True'])"
   ]
  },
  {
   "cell_type": "code",
   "execution_count": 13,
   "metadata": {},
   "outputs": [],
   "source": [
    "def to_int(chrom):\n",
    "    try:\n",
    "        chrom=int(chrom)\n",
    "    except:\n",
    "        pass\n",
    "    return chrom"
   ]
  },
  {
   "cell_type": "code",
   "execution_count": 70,
   "metadata": {},
   "outputs": [],
   "source": [
    "df=df[['Chromosome_36','Coordinate_36','Name']].dropna()\n",
    "df=df[df['Chromosome_36']!='MULTI']\n",
    "df.loc[:,'Chromosome_36']=np.vectorize(to_int)(df.loc[:,'Chromosome_36'])\n",
    "#df['Start']=df['Coordinate_36'].astype(int)\n",
    "\n"
   ]
  },
  {
   "cell_type": "code",
   "execution_count": 17,
   "metadata": {},
   "outputs": [
    {
     "data": {
      "text/plain": [
       "[['cg17498272',\n",
       "  'cg12461677',\n",
       "  'cg14222245',\n",
       "  'cg10162823',\n",
       "  'cg07739758',\n",
       "  'cg10734734',\n",
       "  'cg03123289',\n",
       "  'cg08389151',\n",
       "  'cg11001216',\n",
       "  'cg02957155',\n",
       "  'cg22889142',\n",
       "  'cg25623524',\n",
       "  'cg22286978',\n",
       "  'cg04269689',\n",
       "  'cg22568540',\n",
       "  'cg03630821'],\n",
       " ['cg03817621', 'cg24411946', 'cg16531903', 'cg10222734', 'cg27394794'],\n",
       " ['cg09696486',\n",
       "  'cg02236847',\n",
       "  'cg10316291',\n",
       "  'cg00019838',\n",
       "  'cg04862340',\n",
       "  'cg00884800',\n",
       "  'cg02789526',\n",
       "  'cg27083740',\n",
       "  'cg06719334',\n",
       "  'cg07283511',\n",
       "  'cg27282264',\n",
       "  'cg09508665',\n",
       "  'cg08661450',\n",
       "  'cg00982312',\n",
       "  'cg07849944',\n",
       "  'cg01597629',\n",
       "  'cg03998719',\n",
       "  'cg27449328',\n",
       "  'cg00470955',\n",
       "  'cg06233376',\n",
       "  'cg07936456',\n",
       "  'cg08466740',\n",
       "  'cg00480381',\n",
       "  'cg10013324',\n",
       "  'cg02008627',\n",
       "  'cg27376707',\n",
       "  'cg08996613',\n",
       "  'cg07891288',\n",
       "  'cg07196505',\n",
       "  'cg01446270',\n",
       "  'cg14642432',\n",
       "  'cg08582701',\n",
       "  'cg06035708',\n",
       "  'cg00590139',\n",
       "  'cg08160063',\n",
       "  'cg00036119',\n",
       "  'cg16427239',\n",
       "  'cg00205756',\n",
       "  'cg05107500',\n",
       "  'cg09599971',\n",
       "  'cg16396980',\n",
       "  'cg06580966',\n",
       "  'cg06447474',\n",
       "  'cg03586879',\n",
       "  'cg06524192',\n",
       "  'cg19378133',\n",
       "  'cg04892758',\n",
       "  'cg00962147',\n",
       "  'cg27199384',\n",
       "  'cg08545287',\n",
       "  'cg08230268',\n",
       "  'cg00853103',\n",
       "  'cg08249698',\n",
       "  'cg05497273',\n",
       "  'cg06212175',\n",
       "  'cg02042823',\n",
       "  'cg16696400',\n",
       "  'cg09790780',\n",
       "  'cg03623568',\n",
       "  'cg04006565',\n",
       "  'cg04383979',\n",
       "  'cg07027430',\n",
       "  'cg04056343',\n",
       "  'cg06271387',\n",
       "  'cg10072526',\n",
       "  'cg04671611',\n",
       "  'cg02909809',\n",
       "  'ch.16.296248R',\n",
       "  'cg26488009',\n",
       "  'cg27623406',\n",
       "  'cg07944396',\n",
       "  'cg03934713',\n",
       "  'cg02576228',\n",
       "  'cg10413513',\n",
       "  'cg10338848',\n",
       "  'cg06941009',\n",
       "  'cg07568233',\n",
       "  'cg02230017',\n",
       "  'cg01050225',\n",
       "  'cg06844984',\n",
       "  'cg27256528',\n",
       "  'cg03529595',\n",
       "  'cg04973802',\n",
       "  'cg03986562',\n",
       "  'cg09243507',\n",
       "  'cg03169041',\n",
       "  'cg03391464',\n",
       "  'cg01914555',\n",
       "  'cg06560026',\n",
       "  'cg01680674',\n",
       "  'cg08015447',\n",
       "  'cg00691081',\n",
       "  'cg01610605',\n",
       "  'cg03312587',\n",
       "  'cg08390979',\n",
       "  'cg00491523',\n",
       "  'cg00099017',\n",
       "  'cg00499781',\n",
       "  'cg02119348',\n",
       "  'cg09683476',\n",
       "  'cg12310850',\n",
       "  'cg00514665',\n",
       "  'cg06332950',\n",
       "  'cg16716449',\n",
       "  'cg03072621',\n",
       "  'cg08255211',\n",
       "  'cg02217063',\n",
       "  'cg07115206',\n",
       "  'cg06705265'],\n",
       " ['cg19815813',\n",
       "  'cg07218357',\n",
       "  'cg14888445',\n",
       "  'cg02923162',\n",
       "  'cg25710107',\n",
       "  'cg17371841',\n",
       "  'cg02735500',\n",
       "  'cg17902007',\n",
       "  'cg18100153',\n",
       "  'cg13776095',\n",
       "  'cg00336946',\n",
       "  'cg01723761',\n",
       "  'cg02425595'],\n",
       " ['cg08012045',\n",
       "  'cg12187098',\n",
       "  'cg26665904',\n",
       "  'cg16314263',\n",
       "  'cg00141925',\n",
       "  'cg12417807',\n",
       "  'cg24533804',\n",
       "  'cg00146928',\n",
       "  'cg00134295',\n",
       "  'cg15688197',\n",
       "  'cg11139127',\n",
       "  'cg27166707',\n",
       "  'cg12058490',\n",
       "  'cg08300930']]"
      ]
     },
     "execution_count": 17,
     "metadata": {},
     "output_type": "execute_result"
    }
   ],
   "source": [
    "[capsules['UCSC_RefGene_Name'][k] for k in list(capsules['UCSC_RefGene_Name'].keys())[:5]]"
   ]
  },
  {
   "cell_type": "code",
   "execution_count": 71,
   "metadata": {},
   "outputs": [
    {
     "data": {
      "text/plain": [
       "array(['Y', 'X', '1', '2', '3', '4', '5', '6', '7', '8', '9', '10', '11',\n",
       "       '12', '13', '14', '15', '16', '17', '18', '19', '20', '21', '22'],\n",
       "      dtype=object)"
      ]
     },
     "execution_count": 71,
     "metadata": {},
     "output_type": "execute_result"
    }
   ],
   "source": [
    "df['Chromosome_36'].unique()"
   ]
  },
  {
   "cell_type": "code",
   "execution_count": 74,
   "metadata": {},
   "outputs": [],
   "source": [
    "df['Start']=df['Coordinate_36'].astype(int)\n",
    "df['End']=df['Start']+1"
   ]
  },
  {
   "cell_type": "code",
   "execution_count": 8,
   "metadata": {},
   "outputs": [],
   "source": [
    "df=df[['CHR','RANGE_START','RANGE_END','Name']]\n",
    "df=df[~df['RANGE_START'].isnull()]\n",
    "df.loc[:,['RANGE_START','RANGE_END']]=df.loc[:,['RANGE_START','RANGE_END']].astype(int)"
   ]
  },
  {
   "cell_type": "code",
   "execution_count": 14,
   "metadata": {},
   "outputs": [],
   "source": [
    "df.loc[:,'CHR']=np.vectorize(to_int)(df.loc[:,'CHR'])#.unique()"
   ]
  },
  {
   "cell_type": "code",
   "execution_count": 15,
   "metadata": {},
   "outputs": [
    {
     "data": {
      "text/plain": [
       "array(['Y', 'X', '1', '2', '3', '4', '5', '6', '7', '8', '9', '10', '11',\n",
       "       '12', '13', '14', '15', '16', '17', '18', '19', '20', '21', '22'],\n",
       "      dtype=object)"
      ]
     },
     "execution_count": 15,
     "metadata": {},
     "output_type": "execute_result"
    }
   ],
   "source": [
    "df['CHR'].unique()"
   ]
  },
  {
   "cell_type": "code",
   "execution_count": 16,
   "metadata": {},
   "outputs": [],
   "source": [
    "annotation450k=BedTool.from_dataframe(df[['CHR','RANGE_START','RANGE_END','Name']]) # .compute()"
   ]
  },
  {
   "cell_type": "code",
   "execution_count": 17,
   "metadata": {},
   "outputs": [
    {
     "name": "stdout",
     "output_type": "stream",
     "text": [
      "Y\t8553009\t8553132\tcg00035864\n",
      " Y\t9363356\t9363479\tcg00050873\n",
      " Y\t25314171\t25314294\tcg00061679\n",
      " Y\t22741795\t22741918\tcg00063477\n",
      " Y\t21664296\t21664419\tcg00121626\n",
      " Y\t21239348\t21239471\tcg00212031\n",
      " Y\t8148233\t8148356\tcg00213748\n",
      " Y\t15815688\t15815811\tcg00214611\n",
      " Y\t4868996\t4869119\tcg00223952\n",
      " Y\t6133740\t6133863\tcg00243321\n",
      " "
     ]
    }
   ],
   "source": [
    "annotation450k.head()"
   ]
  },
  {
   "cell_type": "code",
   "execution_count": 75,
   "metadata": {},
   "outputs": [],
   "source": [
    "annotation450k=BedTool.from_dataframe(df[['Chromosome_36','Start','End','Name']]) # .compute()"
   ]
  },
  {
   "cell_type": "code",
   "execution_count": 18,
   "metadata": {},
   "outputs": [
    {
     "data": {
      "text/plain": [
       "<BedTool(450kannotations.bed)>"
      ]
     },
     "execution_count": 18,
     "metadata": {},
     "output_type": "execute_result"
    }
   ],
   "source": [
    "annotation450k.saveas('450kannotations.bed')"
   ]
  },
  {
   "cell_type": "code",
   "execution_count": null,
   "metadata": {},
   "outputs": [],
   "source": [
    "df.loc[:,['Coordinate_36','RANGE_END']]=df.loc[:,['Coordinate_36','RANGE_END']].astype(int)\n",
    "df['End']=df['Start']+1\n",
    "df=df[['CHR','Start','End','Name']]\n",
    "df=df[df['Chromosome_36']!='MULTI']\n",
    "df.loc[:,'Chromosome_36']=np.vectorize(to_int)(df.loc[:,'Chromosome_36'])"
   ]
  }
 ],
 "metadata": {
  "kernelspec": {
   "display_name": "Python 3",
   "language": "python",
   "name": "python3"
  },
  "language_info": {
   "codemirror_mode": {
    "name": "ipython",
    "version": 3
   },
   "file_extension": ".py",
   "mimetype": "text/x-python",
   "name": "python",
   "nbconvert_exporter": "python",
   "pygments_lexer": "ipython3",
   "version": "3.6.8"
  }
 },
 "nbformat": 4,
 "nbformat_minor": 2
}
